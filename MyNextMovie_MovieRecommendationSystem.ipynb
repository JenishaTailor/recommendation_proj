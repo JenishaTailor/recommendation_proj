{
  "nbformat": 4,
  "nbformat_minor": 0,
  "metadata": {
    "colab": {
      "provenance": []
    },
    "kernelspec": {
      "name": "python3",
      "display_name": "Python 3"
    },
    "language_info": {
      "name": "python"
    }
  },
  "cells": [
    {
      "cell_type": "code",
      "source": [
        "import pandas as pd\n",
        "from sklearn.metrics.pairwise import cosine_similarity\n",
        "from scipy.sparse import csr_matrix\n",
        "\n",
        "movies = pd.read_csv('/content/movies.csv')\n",
        "ratings = pd.read_csv('/content/ratings.csv')\n",
        "# Merge the two datasets on 'movieId'\n",
        "data = pd.merge(ratings, movies, on='movieId')\n",
        "print(data)"
      ],
      "metadata": {
        "id": "2joMzb9n6Gdg"
      },
      "execution_count": null,
      "outputs": []
    },
    {
      "cell_type": "markdown",
      "source": [
        "Create a popularity based recommender system at a genre level. User will input a genre (g), minimum ratings threshold (t) for a movie and no. of recommendations(N) for which it should be recommended top N movies which are most popular within that genre (g) ordered by ratings in descending order where each movie has at least (t) reviews."
      ],
      "metadata": {
        "id": "ot492OuI6b3l"
      }
    },
    {
      "cell_type": "code",
      "source": [
        "def genre_based_popular_recommendation(data, genre, min_reviews, top_n):\n",
        "    # Filter the data for the selected genre\n",
        "    genre_data = data[data['genres'].str.contains(genre, case=False, na=False)]\n",
        "\n",
        "    # Calculate the number of reviews and average rating per movie\n",
        "    popularity_data = genre_data.groupby('title').agg(\n",
        "        avg_rating=('rating', 'mean'),\n",
        "        num_reviews=('rating', 'count')\n",
        "    ).reset_index()\n",
        "\n",
        "    # Filter by the minimum reviews threshold\n",
        "    filtered_data = popularity_data[popularity_data['num_reviews'] >= min_reviews]\n",
        "\n",
        "    # Sort the movies by average rating in descending order\n",
        "    sorted_data = filtered_data.sort_values(by='avg_rating', ascending=False)\n",
        "\n",
        "    # Select the top N movies\n",
        "    top_movies = sorted_data.head(top_n)\n",
        "    top_movies = top_movies.reset_index(drop=True)\n",
        "    top_movies.index += 1\n",
        "\n",
        "    return top_movies\n",
        "\n",
        "# Example usage\n",
        "genre = 'Comedy'\n",
        "min_reviews = 100\n",
        "top_n = 5\n",
        "\n",
        "recommendations = genre_based_popular_recommendation(data, genre, min_reviews, top_n)\n",
        "print(recommendations)\n"
      ],
      "metadata": {
        "id": "-62VB9FB6g1F"
      },
      "execution_count": null,
      "outputs": []
    },
    {
      "cell_type": "markdown",
      "source": [
        "Create a content-based recommender system which recommends top N movies based on similar movie(m) genres."
      ],
      "metadata": {
        "id": "s7yyJGJG9pSQ"
      }
    },
    {
      "cell_type": "code",
      "source": [
        "from sklearn.metrics.pairwise import cosine_similarity\n",
        "from sklearn.feature_extraction.text import TfidfVectorizer\n",
        "\n",
        "# Initialize TF-IDF Vectorizer to transform the 'genres' column into a matrix of TF-IDF features\n",
        "tfidf = TfidfVectorizer(stop_words='english')\n",
        "tfidf_matrix = tfidf.fit_transform(movies['genres'])\n",
        "\n",
        "# Compute the cosine similarity matrix based on the genres\n",
        "cosine_sim = cosine_similarity(tfidf_matrix, tfidf_matrix)\n",
        "\n",
        "def content_based_recommendation(movie_title, top_n=5):\n",
        "    # Get the index of the movie that matches the title\n",
        "    movie_title_lower = movie_title.lower()\n",
        "    matching_movies = movies[movies['title'].str.lower() == movie_title_lower]\n",
        "\n",
        "    if matching_movies.empty:\n",
        "        print(f\"Movie '{movie_title}' not found in the dataset.\")\n",
        "        return None\n",
        "\n",
        "    idx = matching_movies.index[0]\n",
        "\n",
        "    # Get the pairwise similarity scores of all movies with that movie\n",
        "    sim_scores = list(enumerate(cosine_sim[idx]))\n",
        "\n",
        "    # Sort the movies based on the similarity scores in descending order\n",
        "    sim_scores = sorted(sim_scores, key=lambda x: x[1], reverse=True)\n",
        "\n",
        "    # Get the scores of the top_n most similar movies (excluding the movie itself)\n",
        "    sim_scores = sim_scores[1:top_n + 1]\n",
        "\n",
        "    # Get the movie indices\n",
        "    movie_indices = [i[0] for i in sim_scores]\n",
        "\n",
        "    # Return the top N most similar movies as a DataFrame\n",
        "    recommended_movies = movies.iloc[movie_indices][['title', 'genres']]\n",
        "    return recommended_movies.reset_index(drop=True)\n",
        "\n",
        "# Example\n",
        "movie_title = 'Toy Story (1995)'\n",
        "top_n = 5\n",
        "recommendations = content_based_recommendation(movie_title, top_n)\n",
        "print(recommendations)\n"
      ],
      "metadata": {
        "id": "foIcspal9pyJ",
        "colab": {
          "base_uri": "https://localhost:8080/"
        },
        "outputId": "70d1a7a3-2535-43a9-926a-e72ed417962d"
      },
      "execution_count": 6,
      "outputs": [
        {
          "output_type": "stream",
          "name": "stdout",
          "text": [
            "                                            title  \\\n",
            "0                                     Antz (1998)   \n",
            "1                              Toy Story 2 (1999)   \n",
            "2  Adventures of Rocky and Bullwinkle, The (2000)   \n",
            "3                Emperor's New Groove, The (2000)   \n",
            "4                           Monsters, Inc. (2001)   \n",
            "\n",
            "                                        genres  \n",
            "0  Adventure|Animation|Children|Comedy|Fantasy  \n",
            "1  Adventure|Animation|Children|Comedy|Fantasy  \n",
            "2  Adventure|Animation|Children|Comedy|Fantasy  \n",
            "3  Adventure|Animation|Children|Comedy|Fantasy  \n",
            "4  Adventure|Animation|Children|Comedy|Fantasy  \n"
          ]
        }
      ]
    },
    {
      "cell_type": "markdown",
      "source": [
        "Create a collaborative based recommender system which recommends top N movies based on “K” similar users for a target user “u”"
      ],
      "metadata": {
        "id": "OJQBtVBV7HrP"
      }
    },
    {
      "cell_type": "code",
      "source": [
        "import pandas as pd\n",
        "from sklearn.metrics.pairwise import cosine_similarity\n",
        "from scipy.sparse import csr_matrix\n",
        "\n",
        "# Create a pivot table where rows are users, columns are movies, and values are ratings\n",
        "user_movie_matrix = ratings.pivot(index='userId', columns='movieId', values='rating').fillna(0)\n",
        "\n",
        "# Convert the user-movie matrix to a sparse matrix format for efficiency\n",
        "user_movie_sparse = csr_matrix(user_movie_matrix.values)\n",
        "\n",
        "# Calculate cosine similarity between users\n",
        "user_similarity = cosine_similarity(user_movie_sparse)\n",
        "\n",
        "# Create a DataFrame for similarity scores for easier lookup\n",
        "user_similarity_df = pd.DataFrame(user_similarity, index=user_movie_matrix.index, columns=user_movie_matrix.index)\n",
        "\n",
        "def collaborative_recommendation(user_id, top_n=5, k=10):\n",
        "    # Get similarity scores for the target user and sort them in descending order\n",
        "    similar_users = user_similarity_df[user_id].sort_values(ascending=False)[1:k+1].index\n",
        "\n",
        "    # Filter ratings of the similar users\n",
        "    similar_users_ratings = user_movie_matrix.loc[similar_users]\n",
        "\n",
        "    # Calculate the mean rating of each movie by similar users\n",
        "    movie_recommendations = similar_users_ratings.mean(axis=0)\n",
        "\n",
        "    # Filter out movies that the target user has already rated\n",
        "    user_rated_movies = user_movie_matrix.loc[user_id]\n",
        "    unrated_movies = movie_recommendations[user_rated_movies == 0]\n",
        "\n",
        "    # Sort the recommendations by average rating in descending order and get the top N\n",
        "    top_recommendations = unrated_movies.sort_values(ascending=False).head(top_n)\n",
        "\n",
        "    # Join with movies DataFrame to get movie titles\n",
        "    recommended_movies = movies.set_index('movieId').loc[top_recommendations.index][['title']]\n",
        "    recommended_movies['Average Rating from Similar Users'] = top_recommendations.values\n",
        "\n",
        "    return recommended_movies.reset_index(drop=True)\n",
        "\n",
        "# Example\n",
        "user_id = 1\n",
        "top_n = 5\n",
        "k = 100\n",
        "\n",
        "recommendations = collaborative_recommendation(user_id, top_n, k)\n",
        "print(recommendations)\n"
      ],
      "metadata": {
        "colab": {
          "base_uri": "https://localhost:8080/"
        },
        "id": "nBmCcuxCF4M_",
        "outputId": "6f65c1ab-1ea9-48eb-c0e9-406372291150"
      },
      "execution_count": 8,
      "outputs": [
        {
          "output_type": "stream",
          "name": "stdout",
          "text": [
            "                                       title  \\\n",
            "0  Indiana Jones and the Last Crusade (1989)   \n",
            "1                           Toy Story (1995)   \n",
            "2                            Die Hard (1988)   \n",
            "3                              Aliens (1986)   \n",
            "4                             Memento (2000)   \n",
            "\n",
            "   Average Rating from Similar Users  \n",
            "0                              2.570  \n",
            "1                              2.420  \n",
            "2                              2.410  \n",
            "3                              2.355  \n",
            "4                              2.320  \n"
          ]
        }
      ]
    }
  ]
}